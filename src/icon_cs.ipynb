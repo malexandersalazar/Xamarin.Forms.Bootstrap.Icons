{
 "metadata": {
  "language_info": {
   "codemirror_mode": {
    "name": "ipython",
    "version": 3
   },
   "file_extension": ".py",
   "mimetype": "text/x-python",
   "name": "python",
   "nbconvert_exporter": "python",
   "pygments_lexer": "ipython3",
   "version": "3.8.5"
  },
  "orig_nbformat": 4,
  "kernelspec": {
   "name": "python3",
   "display_name": "Python 3.8.5 64-bit ('base': conda)"
  },
  "interpreter": {
   "hash": "cef9e06bb236b2a8629b07e87a04b187b952a0f661eff5533360a155783f0c33"
  }
 },
 "nbformat": 4,
 "nbformat_minor": 2,
 "cells": [
  {
   "cell_type": "code",
   "execution_count": 158,
   "metadata": {},
   "outputs": [],
   "source": [
    "from bs4 import BeautifulSoup"
   ]
  },
  {
   "cell_type": "code",
   "execution_count": 159,
   "metadata": {
    "tags": []
   },
   "outputs": [],
   "source": [
    "with open(\"icons_fontdrop.txt\", \"r\", encoding='utf-8') as x:\n",
    "    soup = BeautifulSoup(x.read(),'html.parser')"
   ]
  },
  {
   "cell_type": "code",
   "execution_count": 160,
   "metadata": {
    "tags": []
   },
   "outputs": [],
   "source": [
    "enums = ''\n",
    "\n",
    "divs = soup.div.find_all('div')\n",
    "for div in divs:\n",
    "    tooltip_div = div.div\n",
    "    if(tooltip_div and tooltip_div['role'] == 'tooltip'):\n",
    "        parts = tooltip_div.text.split()\n",
    "        if(parts[3] == 'none' or len(parts[1]) == 1):\n",
    "            continue\n",
    "        icon_name = parts[1]\n",
    "        icon_name = ''.join([name_part.capitalize() for name_part in icon_name.split('-')])\n",
    "        enums += f\"\\t\\t{icon_name} = '\\\\u{parts[3]}',\\n\"\n",
    "\n",
    "enums = enums[:-2]"
   ]
  },
  {
   "cell_type": "code",
   "execution_count": 161,
   "metadata": {},
   "outputs": [],
   "source": [
    "with open(\"../dist/Xamarin.Forms.Bootstrap.Icons/Icon.cs\", \"a\", encoding='utf-8') as f:\n",
    "    f.write('namespace Xamarin.Forms.Bootstrap.Icons\\n')\n",
    "    f.write('{\\n')\n",
    "    f.write('\\tpublic enum Icon\\n')\n",
    "    f.write('\\t{\\n')\n",
    "    f.write(f'{enums}\\n')\n",
    "    f.write('\\t}\\n')\n",
    "    f.write('}')"
   ]
  }
 ]
}