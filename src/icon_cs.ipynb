{
 "cells": [
  {
   "attachments": {},
   "cell_type": "markdown",
   "metadata": {},
   "source": [
    "### Bootstrap Icons Json"
   ]
  },
  {
   "cell_type": "code",
   "execution_count": 1,
   "metadata": {},
   "outputs": [],
   "source": [
    "import json"
   ]
  },
  {
   "cell_type": "code",
   "execution_count": 2,
   "metadata": {},
   "outputs": [],
   "source": [
    "def get_hex(code):\n",
    "    return str.replace(str.upper(hex(code)),'0X','\\\\u')"
   ]
  },
  {
   "cell_type": "code",
   "execution_count": 3,
   "metadata": {},
   "outputs": [],
   "source": [
    "def get_enum(key):\n",
    "    if(key[0].isnumeric()):\n",
    "        key = \"Z\" + key\n",
    "\n",
    "    return str.replace(key.title(),'-','')"
   ]
  },
  {
   "cell_type": "code",
   "execution_count": 4,
   "metadata": {},
   "outputs": [],
   "source": [
    "f = open('bootstrap-icons.json')\n",
    "data = json.load(f)\n",
    "keys = dict(data).keys()"
   ]
  },
  {
   "cell_type": "code",
   "execution_count": 15,
   "metadata": {},
   "outputs": [],
   "source": [
    "enums = ''\n",
    "\n",
    "for key in keys:\n",
    "    enums += f\"\\t\\t{get_enum(key)} = '{get_hex(data[key])}',\\n\"\n",
    "\n",
    "enums = enums[:-2]"
   ]
  },
  {
   "cell_type": "code",
   "execution_count": 17,
   "metadata": {},
   "outputs": [],
   "source": [
    "with open(\"Xamarin.Forms.Bootstrap.Icons/Icon.cs\", \"a\", encoding='utf-8') as f:\n",
    "    f.write('namespace Xamarin.Forms.Bootstrap.Icons\\n')\n",
    "    f.write('{\\n')\n",
    "    f.write('\\tpublic enum Icon\\n')\n",
    "    f.write('\\t{\\n')\n",
    "    f.write(f'{enums}\\n')\n",
    "    f.write('\\t}\\n')\n",
    "    f.write('}')"
   ]
  },
  {
   "attachments": {},
   "cell_type": "markdown",
   "metadata": {},
   "source": [
    "### Fontdrop"
   ]
  },
  {
   "cell_type": "code",
   "execution_count": 158,
   "metadata": {},
   "outputs": [],
   "source": [
    "from bs4 import BeautifulSoup"
   ]
  },
  {
   "cell_type": "code",
   "execution_count": 159,
   "metadata": {
    "tags": []
   },
   "outputs": [],
   "source": [
    "with open(\"icons_fontdrop.txt\", \"r\", encoding='utf-8') as x:\n",
    "    soup = BeautifulSoup(x.read(),'html.parser')"
   ]
  },
  {
   "cell_type": "code",
   "execution_count": 160,
   "metadata": {
    "tags": []
   },
   "outputs": [],
   "source": [
    "enums = ''\n",
    "\n",
    "divs = soup.div.find_all('div')\n",
    "for div in divs:\n",
    "    tooltip_div = div.div\n",
    "    if(tooltip_div and tooltip_div['role'] == 'tooltip'):\n",
    "        parts = tooltip_div.text.split()\n",
    "        if(parts[3] == 'none' or len(parts[1]) == 1):\n",
    "            continue\n",
    "        icon_name = parts[1]\n",
    "        icon_name = ''.join([name_part.capitalize() for name_part in icon_name.split('-')])\n",
    "        enums += f\"\\t\\t{icon_name} = '\\\\u{parts[3]}',\\n\"\n",
    "\n",
    "enums = enums[:-2]"
   ]
  },
  {
   "cell_type": "code",
   "execution_count": 161,
   "metadata": {},
   "outputs": [],
   "source": [
    "with open(\"../dist/Xamarin.Forms.Bootstrap.Icons/Icon.cs\", \"a\", encoding='utf-8') as f:\n",
    "    f.write('namespace Xamarin.Forms.Bootstrap.Icons\\n')\n",
    "    f.write('{\\n')\n",
    "    f.write('\\tpublic enum Icon\\n')\n",
    "    f.write('\\t{\\n')\n",
    "    f.write(f'{enums}\\n')\n",
    "    f.write('\\t}\\n')\n",
    "    f.write('}')"
   ]
  }
 ],
 "metadata": {
  "kernelspec": {
   "display_name": "base",
   "language": "python",
   "name": "python3"
  },
  "language_info": {
   "codemirror_mode": {
    "name": "ipython",
    "version": 3
   },
   "file_extension": ".py",
   "mimetype": "text/x-python",
   "name": "python",
   "nbconvert_exporter": "python",
   "pygments_lexer": "ipython3",
   "version": "3.8.5"
  },
  "orig_nbformat": 4,
  "vscode": {
   "interpreter": {
    "hash": "ff4f85d6e04298634172ac5d8264e7e9b556b95639fe52ebb9425c4d4cba0c9c"
   }
  }
 },
 "nbformat": 4,
 "nbformat_minor": 2
}
